{
 "cells": [
  {
   "cell_type": "code",
   "execution_count": 19,
   "metadata": {},
   "outputs": [
    {
     "name": "stderr",
     "output_type": "stream",
     "text": [
      "/var/folders/kk/r4qs20xx1pbcd8xfjh2_6xtr0000gn/T/ipykernel_79685/1207349631.py:10: UserWarning: torch.range is deprecated and will be removed in a future release because its behavior is inconsistent with Python's range builtin. Instead, use torch.arange, which produces values in [start, end).\n",
      "  f = torch.range(-5,5,0.01, requires_grad=True)\n"
     ]
    },
    {
     "ename": "RuntimeError",
     "evalue": "Can't call numpy() on Tensor that requires grad. Use tensor.detach().numpy() instead.",
     "output_type": "error",
     "traceback": [
      "\u001b[0;31m---------------------------------------------------------------------------\u001b[0m",
      "\u001b[0;31mRuntimeError\u001b[0m                              Traceback (most recent call last)",
      "Cell \u001b[0;32mIn[19], line 14\u001b[0m\n\u001b[1;32m     11\u001b[0m l \u001b[39m=\u001b[39m logistic_loss(y,f)\n\u001b[1;32m     12\u001b[0m \u001b[39m# l1 = l\u001b[39;00m\n\u001b[1;32m     13\u001b[0m \u001b[39m# l2 = l1.detach().numpy()\u001b[39;00m\n\u001b[0;32m---> 14\u001b[0m plt\u001b[39m.\u001b[39mplot(f,l\u001b[39m.\u001b[39;49mcpu()\u001b[39m.\u001b[39;49mnumpy())\n\u001b[1;32m     15\u001b[0m plt\u001b[39m.\u001b[39mshow()\n\u001b[1;32m     16\u001b[0m \u001b[39m# l.backward()\u001b[39;00m\n\u001b[1;32m     17\u001b[0m \u001b[39m# plt.plot(f,l.detach().numpy())\u001b[39;00m\n\u001b[1;32m     18\u001b[0m \u001b[39m# plt.show()\u001b[39;00m\n\u001b[1;32m     19\u001b[0m \u001b[39m# for f in range(-5,-5, 0.01):\u001b[39;00m\n",
      "\u001b[0;31mRuntimeError\u001b[0m: Can't call numpy() on Tensor that requires grad. Use tensor.detach().numpy() instead."
     ]
    }
   ],
   "source": [
    "import torch\n",
    "import matplotlib.pyplot as plt\n",
    "import math\n",
    "\n",
    "def logistic_loss(y, f): # f is model output, y is corresponding class\n",
    "    return - (1 + (-y*f).exp()).log()\n",
    "y = 1\n",
    "f = torch.range(-5,5,0.01, requires_grad=True)\n",
    "l = logistic_loss(y,f)\n",
    "plt.plot(f,l.cpu().numpy())\n",
    "plt.show()\n"
   ]
  },
  {
   "cell_type": "markdown",
   "metadata": {},
   "source": []
  },
  {
   "cell_type": "code",
   "execution_count": null,
   "metadata": {},
   "outputs": [
    {
     "name": "stdout",
     "output_type": "stream",
     "text": [
      "Downloading http://fashion-mnist.s3-website.eu-central-1.amazonaws.com/train-images-idx3-ubyte.gz\n",
      "Downloading http://fashion-mnist.s3-website.eu-central-1.amazonaws.com/train-images-idx3-ubyte.gz to ./data/FashionMNIST/raw/train-images-idx3-ubyte.gz\n"
     ]
    },
    {
     "name": "stderr",
     "output_type": "stream",
     "text": [
      "100.0%\n"
     ]
    },
    {
     "name": "stdout",
     "output_type": "stream",
     "text": [
      "Extracting ./data/FashionMNIST/raw/train-images-idx3-ubyte.gz to ./data/FashionMNIST/raw\n",
      "\n",
      "Downloading http://fashion-mnist.s3-website.eu-central-1.amazonaws.com/train-labels-idx1-ubyte.gz\n",
      "Downloading http://fashion-mnist.s3-website.eu-central-1.amazonaws.com/train-labels-idx1-ubyte.gz to ./data/FashionMNIST/raw/train-labels-idx1-ubyte.gz\n"
     ]
    },
    {
     "name": "stderr",
     "output_type": "stream",
     "text": [
      "100.0%\n",
      "0.7%"
     ]
    },
    {
     "name": "stdout",
     "output_type": "stream",
     "text": [
      "Extracting ./data/FashionMNIST/raw/train-labels-idx1-ubyte.gz to ./data/FashionMNIST/raw\n",
      "\n",
      "Downloading http://fashion-mnist.s3-website.eu-central-1.amazonaws.com/t10k-images-idx3-ubyte.gz\n",
      "Downloading http://fashion-mnist.s3-website.eu-central-1.amazonaws.com/t10k-images-idx3-ubyte.gz to ./data/FashionMNIST/raw/t10k-images-idx3-ubyte.gz\n"
     ]
    },
    {
     "name": "stderr",
     "output_type": "stream",
     "text": [
      "100.0%\n"
     ]
    },
    {
     "name": "stdout",
     "output_type": "stream",
     "text": [
      "Extracting ./data/FashionMNIST/raw/t10k-images-idx3-ubyte.gz to ./data/FashionMNIST/raw\n",
      "\n",
      "Downloading http://fashion-mnist.s3-website.eu-central-1.amazonaws.com/t10k-labels-idx1-ubyte.gz\n",
      "Downloading http://fashion-mnist.s3-website.eu-central-1.amazonaws.com/t10k-labels-idx1-ubyte.gz to ./data/FashionMNIST/raw/t10k-labels-idx1-ubyte.gz\n"
     ]
    },
    {
     "name": "stderr",
     "output_type": "stream",
     "text": [
      "100.0%"
     ]
    },
    {
     "name": "stdout",
     "output_type": "stream",
     "text": [
      "Extracting ./data/FashionMNIST/raw/t10k-labels-idx1-ubyte.gz to ./data/FashionMNIST/raw\n",
      "\n",
      "Number of training samples: 60000\n",
      "Number of test samples: 10000\n"
     ]
    },
    {
     "name": "stderr",
     "output_type": "stream",
     "text": [
      "\n"
     ]
    }
   ],
   "source": [
    "\n",
    "import torchvision\n",
    "import torch\n",
    "\n",
    "train_dataset = torchvision.datasets.FashionMNIST(\n",
    "    root=\"./data\", train=True, download=True, transform=torchvision.transforms.ToTensor()\n",
    ")\n",
    "test_dataset = torchvision.datasets.FashionMNIST(\n",
    "    root=\"./data\", train=False, download=True, transform=torchvision.transforms.ToTensor()\n",
    ")\n",
    "\n",
    "print(f\"Number of training samples: {len(train_dataset)}\")\n",
    "print(f\"Number of test samples: {len(test_dataset)}\")\n",
    "\n",
    "train_loader = torch.utils.data.DataLoader(\n",
    "    train_dataset, batch_size=100, shuffle=True, num_workers=2\n",
    ")\n",
    "\n",
    "test_loader = torch.utils.data.DataLoader(\n",
    "    test_dataset, batch_size=100, shuffle=False, num_workers=2\n",
    ")\n",
    "\n"
   ]
  },
  {
   "cell_type": "code",
   "execution_count": 20,
   "metadata": {},
   "outputs": [],
   "source": [
    "clothes_dict = {\n",
    "    0: \"T-shirt/top\",\n",
    "    1: \"Trouser\",\n",
    "    2: \"Pullover\",\n",
    "    3: \"Dress\",\n",
    "    4: \"Coat\",\n",
    "    5: \"Sandal\",\n",
    "    6: \"Shirt\",\n",
    "    7: \"Sneaker\",\n",
    "    8: \"Bag\",\n",
    "    9: \"Ankle boot\",\n",
    "}\n",
    "\n",
    "interested_clothes_to_class = {\n",
    "    7: 1,\n",
    "    2: -1,\n",
    "    # 5: -1,\n",
    "    # 6: -1\n",
    "}"
   ]
  },
  {
   "cell_type": "code",
   "execution_count": 52,
   "metadata": {},
   "outputs": [
    {
     "name": "stdout",
     "output_type": "stream",
     "text": [
      "torch.Size([11982, 2])\n",
      "\n",
      "X:\n",
      " tensor([[[ 0.0000e+00,  0.0000e+00, -1.6858e-38,  ...,  4.5862e-41,\n",
      "          -1.6859e-38,  4.5862e-41],\n",
      "         [-1.6859e-38,  4.5862e-41, -1.6859e-38,  ...,  4.5862e-41,\n",
      "          -1.6860e-38,  4.5862e-41],\n",
      "         [-1.6860e-38,  4.5862e-41, -1.6860e-38,  ...,  4.5862e-41,\n",
      "          -1.6860e-38,  4.5862e-41],\n",
      "         ...,\n",
      "         [ 0.0000e+00,  0.0000e+00,  0.0000e+00,  ...,  0.0000e+00,\n",
      "           0.0000e+00,  0.0000e+00],\n",
      "         [-5.6639e-29,  4.5862e-41, -1.8509e+31,  ...,  0.0000e+00,\n",
      "           0.0000e+00,  0.0000e+00],\n",
      "         [-8.9841e-31,  4.5862e-41,  1.0563e-22,  ...,  4.5862e-41,\n",
      "          -1.0207e-38, -3.0665e+24]],\n",
      "\n",
      "        [[ 0.0000e+00,  0.0000e+00,  0.0000e+00,  ...,  0.0000e+00,\n",
      "           0.0000e+00,  0.0000e+00],\n",
      "         [ 0.0000e+00,  0.0000e+00,  0.0000e+00,  ...,  0.0000e+00,\n",
      "           0.0000e+00,  0.0000e+00],\n",
      "         [ 0.0000e+00,  0.0000e+00,  0.0000e+00,  ...,  0.0000e+00,\n",
      "           0.0000e+00,  0.0000e+00],\n",
      "         ...,\n",
      "         [ 0.0000e+00,  0.0000e+00,  0.0000e+00,  ...,  0.0000e+00,\n",
      "           0.0000e+00,  0.0000e+00],\n",
      "         [ 0.0000e+00,  0.0000e+00,  0.0000e+00,  ...,  0.0000e+00,\n",
      "           0.0000e+00,  0.0000e+00],\n",
      "         [ 0.0000e+00,  0.0000e+00,  0.0000e+00,  ...,  0.0000e+00,\n",
      "           0.0000e+00,  0.0000e+00]],\n",
      "\n",
      "        [[ 0.0000e+00,  0.0000e+00,  0.0000e+00,  ...,  0.0000e+00,\n",
      "           0.0000e+00,  0.0000e+00],\n",
      "         [ 0.0000e+00,  0.0000e+00,  0.0000e+00,  ...,  0.0000e+00,\n",
      "           0.0000e+00,  0.0000e+00],\n",
      "         [ 0.0000e+00,  0.0000e+00,  0.0000e+00,  ...,  0.0000e+00,\n",
      "           0.0000e+00,  0.0000e+00],\n",
      "         ...,\n",
      "         [ 0.0000e+00,  0.0000e+00,  0.0000e+00,  ...,  0.0000e+00,\n",
      "           0.0000e+00,  0.0000e+00],\n",
      "         [ 0.0000e+00,  0.0000e+00,  0.0000e+00,  ...,  0.0000e+00,\n",
      "           0.0000e+00,  0.0000e+00],\n",
      "         [ 0.0000e+00,  0.0000e+00,  0.0000e+00,  ...,  0.0000e+00,\n",
      "           0.0000e+00,  0.0000e+00]],\n",
      "\n",
      "        ...,\n",
      "\n",
      "        [[ 0.0000e+00,  0.0000e+00,  0.0000e+00,  ...,  0.0000e+00,\n",
      "           0.0000e+00,  0.0000e+00],\n",
      "         [ 0.0000e+00,  0.0000e+00,  0.0000e+00,  ...,  0.0000e+00,\n",
      "           0.0000e+00,  0.0000e+00],\n",
      "         [ 0.0000e+00,  7.8431e-03,  0.0000e+00,  ...,  0.0000e+00,\n",
      "           0.0000e+00,  0.0000e+00],\n",
      "         ...,\n",
      "         [ 0.0000e+00,  0.0000e+00,  0.0000e+00,  ...,  0.0000e+00,\n",
      "           0.0000e+00,  0.0000e+00],\n",
      "         [ 0.0000e+00,  0.0000e+00,  0.0000e+00,  ...,  0.0000e+00,\n",
      "           0.0000e+00,  0.0000e+00],\n",
      "         [ 0.0000e+00,  0.0000e+00,  0.0000e+00,  ...,  0.0000e+00,\n",
      "           0.0000e+00,  0.0000e+00]],\n",
      "\n",
      "        [[ 0.0000e+00,  0.0000e+00,  0.0000e+00,  ...,  0.0000e+00,\n",
      "           0.0000e+00,  0.0000e+00],\n",
      "         [ 0.0000e+00,  0.0000e+00,  0.0000e+00,  ...,  0.0000e+00,\n",
      "           0.0000e+00,  0.0000e+00],\n",
      "         [ 0.0000e+00,  0.0000e+00,  0.0000e+00,  ...,  0.0000e+00,\n",
      "           0.0000e+00,  0.0000e+00],\n",
      "         ...,\n",
      "         [ 0.0000e+00,  0.0000e+00,  0.0000e+00,  ...,  0.0000e+00,\n",
      "           0.0000e+00,  0.0000e+00],\n",
      "         [ 0.0000e+00,  0.0000e+00,  0.0000e+00,  ...,  0.0000e+00,\n",
      "           0.0000e+00,  0.0000e+00],\n",
      "         [ 0.0000e+00,  0.0000e+00,  0.0000e+00,  ...,  0.0000e+00,\n",
      "           0.0000e+00,  0.0000e+00]],\n",
      "\n",
      "        [[ 0.0000e+00,  0.0000e+00,  0.0000e+00,  ...,  0.0000e+00,\n",
      "           0.0000e+00,  0.0000e+00],\n",
      "         [ 0.0000e+00,  0.0000e+00,  0.0000e+00,  ...,  0.0000e+00,\n",
      "           0.0000e+00,  0.0000e+00],\n",
      "         [ 0.0000e+00,  0.0000e+00,  0.0000e+00,  ...,  0.0000e+00,\n",
      "           0.0000e+00,  0.0000e+00],\n",
      "         ...,\n",
      "         [ 0.0000e+00,  0.0000e+00,  0.0000e+00,  ...,  0.0000e+00,\n",
      "           0.0000e+00,  0.0000e+00],\n",
      "         [ 0.0000e+00,  0.0000e+00,  0.0000e+00,  ...,  0.0000e+00,\n",
      "           0.0000e+00,  0.0000e+00],\n",
      "         [ 0.0000e+00,  0.0000e+00,  0.0000e+00,  ...,  0.0000e+00,\n",
      "           0.0000e+00,  0.0000e+00]]]) \n",
      "Y:\n",
      " tensor([[-1.2383e-02,  4.5905e-41],\n",
      "        [ 1.0000e+00,  0.0000e+00],\n",
      "        [ 1.0000e+00,  0.0000e+00],\n",
      "        ...,\n",
      "        [ 1.0000e+00,  0.0000e+00],\n",
      "        [ 0.0000e+00,  1.0000e+00],\n",
      "        [ 0.0000e+00,  1.0000e+00]])\n"
     ]
    }
   ],
   "source": [
    "\n",
    "X = torch.empty((1,28,28))\n",
    "Y = torch.empty((1,2))\n",
    "p = 0\n",
    "for batch_x,batch_y in train_loader:\n",
    "    if p > 300:\n",
    "        break\n",
    "    p += 1\n",
    "    for i in range(len(batch_x)):\n",
    "        if batch_y[i].item() in interested_clothes_to_class:\n",
    "            X = torch.cat((X, batch_x[i]))\n",
    "            if interested_clothes_to_class[batch_y[i].item()] == 1:\n",
    "                Y = torch.cat((Y, torch.tensor([1,0]).reshape((1,2))))\n",
    "            else:\n",
    "                Y = torch.cat((Y, torch.tensor([0,1]).reshape((1,2))))\n",
    "            \n",
    "print(Y.shape)\n",
    "print('\\nX:\\n',X,'\\nY:\\n',Y)"
   ]
  },
  {
   "cell_type": "code",
   "execution_count": 55,
   "metadata": {},
   "outputs": [
    {
     "name": "stdout",
     "output_type": "stream",
     "text": [
      "torch.Size([2])\n"
     ]
    }
   ],
   "source": [
    "d = torch.rand((5,2))\n",
    "print(d[0].shape)"
   ]
  },
  {
   "cell_type": "code",
   "execution_count": 102,
   "metadata": {},
   "outputs": [
    {
     "name": "stderr",
     "output_type": "stream",
     "text": [
      "/Users/kobikelemen/Documents/computing/ML/dive-deep-into-DL/dl/lib/python3.8/site-packages/torch/nn/modules/lazy.py:180: UserWarning: Lazy modules are a new feature under heavy development so changes to the API or functionality can happen at any moment.\n",
      "  warnings.warn('Lazy modules are a new feature under heavy development '\n",
      "/Users/kobikelemen/Documents/computing/ML/dive-deep-into-DL/dl/lib/python3.8/site-packages/torch/nn/modules/container.py:217: UserWarning: Implicit dimension choice for softmax has been deprecated. Change the call to include dim=X as an argument.\n",
      "  input = module(input)\n"
     ]
    },
    {
     "name": "stdout",
     "output_type": "stream",
     "text": [
      "3019  /  5991\n",
      "2972  /  5991\n",
      "3019  /  5991\n",
      "3019  /  5991\n",
      "3019  /  5991\n",
      "2972  /  5991\n",
      "3019  /  5991\n",
      "3019  /  5991\n",
      "3019  /  5991\n",
      "3019  /  5991\n",
      "tensor([ 1.,  2.,  3.,  4.,  5.,  6.,  7.,  8.,  9., 10.])\n"
     ]
    },
    {
     "name": "stderr",
     "output_type": "stream",
     "text": [
      "/var/folders/kk/r4qs20xx1pbcd8xfjh2_6xtr0000gn/T/ipykernel_79685/3329144105.py:105: UserWarning: torch.range is deprecated and will be removed in a future release because its behavior is inconsistent with Python's range builtin. Instead, use torch.arange, which produces values in [start, end).\n",
      "  epoch = torch.range(1,num_epochs,1)\n"
     ]
    },
    {
     "data": {
      "image/png": "[encoded data removed]",
      "text/plain": [
       "<Figure size 640x480 with 1 Axes>"
      ]
     },
     "metadata": {},
     "output_type": "display_data"
    }
   ],
   "source": [
    "import torch.nn as nn\n",
    "\n",
    "class LinearNetwork(nn.Module):\n",
    "    def __init__(self, lr, weight_decay):\n",
    "        super(LinearNetwork, self).__init__()\n",
    "        self.lr = lr\n",
    "        self.weight_decay = weight_decay\n",
    "        self.net = nn.Sequential(\n",
    "            nn.Linear(28 * 28, 128),\n",
    "            nn.Linear(128,2),\n",
    "            nn.LazyLinear(2), # 2 output classes (-1 and 1)\n",
    "            nn.Softmax()\n",
    "        )\n",
    "        self.loss = nn.CrossEntropyLoss()\n",
    "        self.optim = torch.optim.Adam(self.net.parameters(), lr=self.lr, weight_decay=self.weight_decay)\n",
    "\n",
    "    def forward(self, x):\n",
    "        x = self.net(x)\n",
    "        return x\n",
    "    \n",
    "    def logistic_loss(self, y, y_hat): # y_hat is model output, y is corresponding class\n",
    "        return self.loss(y, y_hat)\n",
    "\n",
    "\n",
    "    \n",
    "    def rmseloss(self, features, labels):\n",
    "        clipped_preds = torch.clamp(self.net(features.reshape((1,784))), 1, float('inf'))\n",
    "        rmse = torch.sqrt(2 * self.logistic_loss(clipped_preds.log().reshape((2)), labels.log()).mean())\n",
    "        return rmse.item()\n",
    "    \n",
    "    def get_batches(self, batch_size, features, labels):\n",
    "        num_batches = len(features) // batch_size\n",
    "        for i in range(num_batches):\n",
    "            start = i * batch_size\n",
    "            end = start + batch_size\n",
    "            batch_features = features[start:end]\n",
    "            batch_labels = labels[start:end]\n",
    "            yield batch_features.float(), batch_labels.float()\n",
    "\n",
    "        if num_batches * batch_size < len(features):\n",
    "            # There are some leftover data points.\n",
    "            start = num_batches * batch_size\n",
    "            end = len(features)\n",
    "            batch_features = features[start:end]\n",
    "            batch_labels = labels[start:end]\\\n",
    "                \n",
    "            yield batch_features.float(), batch_labels.float()\n",
    "            \n",
    "\n",
    "    def train(self, train_features, train_labels, test_features, test_labels, num_epochs, batch_size):\n",
    "        train_loss, test_loss = [], []\n",
    "        for epoch_index in range(num_epochs):\n",
    "            epoch_loss = []\n",
    "            for i in range(len(train_features)):\n",
    "                X = train_features[i]\n",
    "                y = train_labels[i]\n",
    "                yhat = self.net(X.reshape((1,784))) # forward()\n",
    "                l = self.logistic_loss(yhat.reshape((2)), y)\n",
    "                epoch_loss.append(l.item())\n",
    "                self.optim.zero_grad()\n",
    "                with torch.no_grad():\n",
    "                    l.backward()\n",
    "                    self.optim.step()\n",
    "            \n",
    "            train_loss.append(sum(epoch_loss) / len(epoch_loss))\n",
    "            \n",
    "            if test_features != None:\n",
    "                epoch_loss = []\n",
    "                num_correct = 0\n",
    "                for i in range(len(test_features)):\n",
    "                    X = test_features[i]\n",
    "                    y = test_labels[i]\n",
    "                    yhat = self.net(X.reshape((1,784))) # forward()\n",
    "                    l = self.logistic_loss(yhat.reshape((2)), y)\n",
    "                    epoch_loss.append(l.item())\n",
    "                    if check_correct(y,yhat.reshape((2))):\n",
    "                        num_correct += 1\n",
    "                print(num_correct, ' / ', len(test_features))\n",
    "                test_loss.append(sum(epoch_loss) / len(epoch_loss))\n",
    "        return train_loss, test_loss\n",
    "        \n",
    "def check_correct(y,yhat):\n",
    "    if y[0] == 1 and yhat[0] > 0.5:\n",
    "        return True\n",
    "    if y[1] == 1 and yhat[1] > 0.5:\n",
    "        return True\n",
    "    return False\n",
    "    \n",
    "\n",
    "\n",
    "\n",
    "k, num_epochs, lr, weight_decay, batch_size = 5, 10, 0.1, 0.99, 64\n",
    "net = LinearNetwork(lr, weight_decay)\n",
    "train_features = X[:X.shape[0] // 2]\n",
    "train_labels = Y[:Y.shape[0] // 2]\n",
    "test_features = X[X.shape[0] // 2:]\n",
    "test_labels = Y[Y.shape[0] // 2:]\n",
    "\n",
    "train_loss, valid_loss = net.train(train_features, train_labels, test_features, test_labels, num_epochs, batch_size)\n",
    "\n",
    "epoch = torch.range(1,num_epochs,1)\n",
    "print(epoch)\n",
    "plt.plot(epoch, train_loss, 'r-',label='train')\n",
    "plt.plot(epoch, valid_loss, 'b-',label='test')\n",
    "plt.show()"
   ]
  }
 ],
 "metadata": {
  "kernelspec": {
   "display_name": "Python 3",
   "language": "python",
   "name": "python3"
  },
  "language_info": {
   "codemirror_mode": {
    "name": "ipython",
    "version": 3
   },
   "file_extension": ".py",
   "mimetype": "text/x-python",
   "name": "python",
   "nbconvert_exporter": "python",
   "pygments_lexer": "ipython3",
   "version": "3.10.12"
  },
  "orig_nbformat": 4,
  "vscode": {
   "interpreter": {
    "hash": "7e1998ff7f8aa20ada591c520b972326324e5ea05489af9e422744c7c09f6dad"
   }
  }
 },
 "nbformat": 4,
 "nbformat_minor": 2
}
