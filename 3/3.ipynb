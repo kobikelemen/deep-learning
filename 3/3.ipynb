{
 "cells": [
  {
   "cell_type": "code",
   "execution_count": null,
   "metadata": {},
   "outputs": [],
   "source": []
  },
  {
   "cell_type": "code",
   "execution_count": 15,
   "metadata": {},
   "outputs": [
    {
     "ename": "RuntimeError",
     "evalue": "element 0 of tensors does not require grad and does not have a grad_fn",
     "output_type": "error",
     "traceback": [
      "\u001b[0;31m---------------------------------------------------------------------------\u001b[0m",
      "\u001b[0;31mRuntimeError\u001b[0m                              Traceback (most recent call last)",
      "Cell \u001b[0;32mIn[15], line 15\u001b[0m\n\u001b[1;32m     11\u001b[0m \u001b[39m# l = loss(y,o)\u001b[39;00m\n\u001b[1;32m     12\u001b[0m \u001b[39m# plt.scatter(o, l)\u001b[39;00m\n\u001b[1;32m     14\u001b[0m o\u001b[39m.\u001b[39mrequires_grad_(\u001b[39mTrue\u001b[39;00m)\n\u001b[0;32m---> 15\u001b[0m l\u001b[39m.\u001b[39;49mbackward()\n\u001b[1;32m     16\u001b[0m plt\u001b[39m.\u001b[39mscatter(o,o\u001b[39m.\u001b[39mgrad)\n",
      "File \u001b[0;32m~/Documents/computing/ML/dive-deep-into-DL/dl/lib/python3.8/site-packages/torch/_tensor.py:487\u001b[0m, in \u001b[0;36mTensor.backward\u001b[0;34m(self, gradient, retain_graph, create_graph, inputs)\u001b[0m\n\u001b[1;32m    477\u001b[0m \u001b[39mif\u001b[39;00m has_torch_function_unary(\u001b[39mself\u001b[39m):\n\u001b[1;32m    478\u001b[0m     \u001b[39mreturn\u001b[39;00m handle_torch_function(\n\u001b[1;32m    479\u001b[0m         Tensor\u001b[39m.\u001b[39mbackward,\n\u001b[1;32m    480\u001b[0m         (\u001b[39mself\u001b[39m,),\n\u001b[0;32m   (...)\u001b[0m\n\u001b[1;32m    485\u001b[0m         inputs\u001b[39m=\u001b[39minputs,\n\u001b[1;32m    486\u001b[0m     )\n\u001b[0;32m--> 487\u001b[0m torch\u001b[39m.\u001b[39;49mautograd\u001b[39m.\u001b[39;49mbackward(\n\u001b[1;32m    488\u001b[0m     \u001b[39mself\u001b[39;49m, gradient, retain_graph, create_graph, inputs\u001b[39m=\u001b[39;49minputs\n\u001b[1;32m    489\u001b[0m )\n",
      "File \u001b[0;32m~/Documents/computing/ML/dive-deep-into-DL/dl/lib/python3.8/site-packages/torch/autograd/__init__.py:200\u001b[0m, in \u001b[0;36mbackward\u001b[0;34m(tensors, grad_tensors, retain_graph, create_graph, grad_variables, inputs)\u001b[0m\n\u001b[1;32m    195\u001b[0m     retain_graph \u001b[39m=\u001b[39m create_graph\n\u001b[1;32m    197\u001b[0m \u001b[39m# The reason we repeat same the comment below is that\u001b[39;00m\n\u001b[1;32m    198\u001b[0m \u001b[39m# some Python versions print out the first line of a multi-line function\u001b[39;00m\n\u001b[1;32m    199\u001b[0m \u001b[39m# calls in the traceback and some print out the last line\u001b[39;00m\n\u001b[0;32m--> 200\u001b[0m Variable\u001b[39m.\u001b[39;49m_execution_engine\u001b[39m.\u001b[39;49mrun_backward(  \u001b[39m# Calls into the C++ engine to run the backward pass\u001b[39;49;00m\n\u001b[1;32m    201\u001b[0m     tensors, grad_tensors_, retain_graph, create_graph, inputs,\n\u001b[1;32m    202\u001b[0m     allow_unreachable\u001b[39m=\u001b[39;49m\u001b[39mTrue\u001b[39;49;00m, accumulate_grad\u001b[39m=\u001b[39;49m\u001b[39mTrue\u001b[39;49;00m)\n",
      "\u001b[0;31mRuntimeError\u001b[0m: element 0 of tensors does not require grad and does not have a grad_fn"
     ]
    }
   ],
   "source": [
    "\n",
    "import torch\n",
    "import matplotlib.pyplot as plt\n",
    "\n",
    "def loss(y,o):\n",
    "    return torch.log(1 + torch.exp(torch.mul(-y,o)))\n",
    "\n",
    "l = torch.log(1 + torch.exp(torch.mul(-y,o)))\n",
    "y = torch.tensor([-1,1])\n",
    "o = torch.tensor([-5.0,5.0])\n",
    "o.requires_grad_(True)\n",
    "l.backward()\n",
    "plt.scatter(o,o.grad)"
   ]
  },
  {
   "cell_type": "code",
   "execution_count": 43,
   "metadata": {},
   "outputs": [
    {
     "name": "stdout",
     "output_type": "stream",
     "text": [
      "test loss:  tensor(8293.3994, grad_fn=<MeanBackward0>)\n",
      "y_hat_test:  tensor([186.1711, 192.5994, 205.2343, 241.3522, 257.4177],\n",
      "       grad_fn=<SqueezeBackward4>)\n",
      "w:  tensor([[26.4608]], requires_grad=True)\n"
     ]
    },
    {
     "data": {
      "image/png": "[encoded data removed]",
      "text/plain": [
       "<Figure size 640x480 with 1 Axes>"
      ]
     },
     "metadata": {},
     "output_type": "display_data"
    }
   ],
   "source": [
    "#Q3\n",
    "import matplotlib.pyplot\n",
    "import torch\n",
    "\n",
    "current = torch.tensor([1.5420291, 1.8935232, 2.1603365, 2.5381863, 2.893443, \\\n",
    "                    3.838855, 3.925425, 4.2233696, 4.235571, 4.273397, \\\n",
    "                    4.9332876, 6.4704757, 6.517571, 6.87826, 7.0009003, \\\n",
    "                    7.035741, 7.278681, 7.7561755, 9.121138, 9.728281])\n",
    "voltage = torch.tensor([63.802246, 80.036026, 91.4903, 108.28776, 122.781975, \\\n",
    "                    161.36314, 166.50816, 176.16772, 180.29395, 179.09758, \\\n",
    "                    206.21027, 272.71857, 272.24033, 289.54745, 293.8488, \\\n",
    "                    295.2281, 306.62274, 327.93243, 383.16296, 408.65967])\n",
    "\n",
    "lr = 0.03\n",
    "w1 = torch.normal(0, 0.01, (3,1), requires_grad=True) # 3 params: c,r,q\n",
    "w2 = torch.normal(0, 0.01, (2,1), requires_grad=True) # 2 params: c,r\n",
    "w3 = torch.normal(0, 0.01, (1,1), requires_grad=True) # 1 params: r\n",
    "\n",
    "x_train = current[0:15].reshape(1,15)\n",
    "x_test = current[15:].reshape(1,5)\n",
    "y_train = voltage[0:15].reshape(1,15)\n",
    "y_test = voltage[15:].reshape(1,5)\n",
    "\n",
    "\n",
    "def forward1(w, x):\n",
    "    return w[0] + torch.matmul(w[1], x) + torch.matmul(w[2], x ** 2)\n",
    "\n",
    "def forward2(w, x):\n",
    "    return w[0] + torch.matmul(w[1], x)\n",
    "\n",
    "def forward3(w, x):\n",
    "    return torch.matmul(w[0], x)\n",
    "\n",
    "def loss(y, y_hat):\n",
    "    l = (y_hat - y) ** 2 / 2\n",
    "    return l.mean()\n",
    "\n",
    "w = w3\n",
    "y_hat_train = forward3(w, x_train)\n",
    "l_train = loss(y_train, y_hat_train)\n",
    "\n",
    "with torch.no_grad():\n",
    "    l_train.backward()\n",
    "    w -= lr * w.grad\n",
    "\n",
    "y_hat_test = forward3(w, x_test)\n",
    "l_test = loss(y_test, y_hat_test)\n",
    "print('test loss: ',l_test)\n",
    "print('y_hat_test: ', y_hat_test)\n",
    "print('w: ', w)\n",
    "\n",
    "plt.scatter(current, voltage, color='b')\n",
    "plt.scatter(x_train, y_hat_train.detach().numpy(), color='g')\n",
    "plt.scatter(x_test, y_hat_test.detach().numpy(),color='r')\n",
    "plt.show()\n",
    "\n",
    "\n",
    "\"\"\" CONCLUSIONS\n",
    "1. learning rate (lr) has big affect in this case since only 1 batch is used\n",
    "2. I believe using multiple batches would lead to estimating coefficients (almost)\n",
    "perfectly. Currently only 1 batch used which not enough.\n",
    "\n",
    "\"\"\"\n"
   ]
  }
 ],
 "metadata": {
  "kernelspec": {
   "display_name": "dl",
   "language": "python",
   "name": "python3"
  },
  "language_info": {
   "codemirror_mode": {
    "name": "ipython",
    "version": 3
   },
   "file_extension": ".py",
   "mimetype": "text/x-python",
   "name": "python",
   "nbconvert_exporter": "python",
   "pygments_lexer": "ipython3",
   "version": "3.8.3"
  },
  "orig_nbformat": 4,
  "vscode": {
   "interpreter": {
    "hash": "20c09cea5ede3d49818594c8c0a7d6d3389990e398eb6d0bd0aabf1d5d9d31cd"
   }
  }
 },
 "nbformat": 4,
 "nbformat_minor": 2
}
