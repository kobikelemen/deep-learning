{
 "cells": [
  {
   "cell_type": "code",
   "execution_count": 5,
   "metadata": {},
   "outputs": [],
   "source": [
    "import torch\n"
   ]
  },
  {
   "cell_type": "code",
   "execution_count": 26,
   "metadata": {},
   "outputs": [
    {
     "name": "stderr",
     "output_type": "stream",
     "text": [
      "/var/folders/kk/r4qs20xx1pbcd8xfjh2_6xtr0000gn/T/ipykernel_27358/3328160861.py:4: UserWarning: To copy construct from a tensor, it is recommended to use sourceTensor.clone().detach() or sourceTensor.clone().detach().requires_grad_(True), rather than torch.tensor(sourceTensor).\n",
      "  A = torch.normal(mean=torch.tensor(torch.zeros((4096, 4096))), std=torch.tensor(torch.zeros((4096, 4096))))\n",
      "/var/folders/kk/r4qs20xx1pbcd8xfjh2_6xtr0000gn/T/ipykernel_27358/3328160861.py:5: UserWarning: To copy construct from a tensor, it is recommended to use sourceTensor.clone().detach() or sourceTensor.clone().detach().requires_grad_(True), rather than torch.tensor(sourceTensor).\n",
      "  B = torch.normal(mean=torch.tensor(torch.zeros((4096, 4096))), std=torch.tensor(torch.zeros((4096, 4096))))\n"
     ]
    }
   ],
   "source": [
    "\n",
    "import time\n",
    "A = torch.normal(mean=torch.tensor(torch.zeros((4096, 4096))), std=torch.tensor(torch.zeros((4096, 4096))))\n",
    "B = torch.normal(mean=torch.tensor(torch.zeros((4096, 4096))), std=torch.tensor(torch.zeros((4096, 4096))))\n",
    "t1 = time.time()\n",
    "C = torch.mm(A,B)\n",
    "print(time.time() - t1)\n",
    "\n",
    "t2 = time.time()\n",
    "C = torch.empty((4096, 4096))\n",
    "for i in range(4096):\n",
    "    C[i,:] = torch.mm(A, B[i,:].reshape((4096,1))).reshape((4096))\n",
    "print(time.time() - t2)\n",
    "\n",
    "C = torch.empty((4096, 4096))\n",
    "t3 = time.time()\n",
    "for i in range(4096):\n",
    "    for j in range(4096):\n",
    "        C[j,i] = torch.mm(A[j,:].reshape((1,4096)), B[:,i].reshape((4096,1)))\n",
    "time.time() - t3"
   ]
  },
  {
   "cell_type": "code",
   "execution_count": 1,
   "metadata": {},
   "outputs": [
    {
     "name": "stdout",
     "output_type": "stream",
     "text": [
      "zsh:1: command not found: nvidia-smi\n"
     ]
    }
   ],
   "source": []
  },
  {
   "cell_type": "code",
   "execution_count": 5,
   "metadata": {},
   "outputs": [
    {
     "name": "stderr",
     "output_type": "stream",
     "text": [
      "/var/folders/kk/r4qs20xx1pbcd8xfjh2_6xtr0000gn/T/ipykernel_28286/428041259.py:6: UserWarning: To copy construct from a tensor, it is recommended to use sourceTensor.clone().detach() or sourceTensor.clone().detach().requires_grad_(True), rather than torch.tensor(sourceTensor).\n",
      "  A = torch.normal(mean=torch.tensor(torch.zeros((4096, 4096))), std=torch.tensor(torch.zeros((4096, 4096))))\n",
      "/var/folders/kk/r4qs20xx1pbcd8xfjh2_6xtr0000gn/T/ipykernel_28286/428041259.py:7: UserWarning: To copy construct from a tensor, it is recommended to use sourceTensor.clone().detach() or sourceTensor.clone().detach().requires_grad_(True), rather than torch.tensor(sourceTensor).\n",
      "  B = torch.normal(mean=torch.tensor(torch.zeros((4096, 4096))), std=torch.tensor(torch.zeros((4096, 4096))))\n"
     ]
    },
    {
     "name": "stdout",
     "output_type": "stream",
     "text": [
      "16.977055072784424\n",
      "15.903696060180664\n"
     ]
    }
   ],
   "source": [
    "#Q4\n",
    "import torch\n",
    "import numpy as np\n",
    "import time\n",
    "\n",
    "A = torch.normal(mean=torch.tensor(torch.zeros((4096, 4096))), std=torch.tensor(torch.zeros((4096, 4096))))\n",
    "B = torch.normal(mean=torch.tensor(torch.zeros((4096, 4096))), std=torch.tensor(torch.zeros((4096, 4096))))\n",
    "\n",
    "C = np.zeros((4096,1))\n",
    "D = torch.empty((4096,1))\n",
    "t1 = time.time()\n",
    "for i in range(4096):\n",
    "    D[i] = torch.norm(torch.mm(A,B[:,i].reshape((4096,1))))\n",
    "C = D\n",
    "\n",
    "print(time.time() - t1)\n",
    "\n",
    "C = np.zeros((4096,1))\n",
    "D = torch.empty((4096,1))\n",
    "t2 = time.time()\n",
    "for i in range(4096):\n",
    "    C[i] = torch.norm(torch.mm(A,B[:,i].reshape((4096,1))))\n",
    "print(time.time() - t2)"
   ]
  },
  {
   "cell_type": "code",
   "execution_count": 12,
   "metadata": {},
   "outputs": [
    {
     "data": {
      "text/plain": [
       "tensor([[17., 17., 17., 17., 17., 17., 17., 17., 17., 17., 17., 17., 17., 17.,\n",
       "         17., 17.],\n",
       "        [17., 17., 17., 17., 17., 17., 17., 17., 17., 17., 17., 17., 17., 17.,\n",
       "         17., 17.],\n",
       "        [17., 17., 17., 17., 17., 17., 17., 17., 17., 17., 17., 17., 17., 17.,\n",
       "         17., 17.],\n",
       "        [17., 17., 17., 17., 17., 17., 17., 17., 17., 17., 17., 17., 17., 17.,\n",
       "         17., 17.],\n",
       "        [17., 17., 17., 17., 17., 17., 17., 17., 17., 17., 17., 17., 17., 17.,\n",
       "         17., 17.],\n",
       "        [17., 17., 17., 17., 17., 17., 17., 17., 17., 17., 17., 17., 17., 17.,\n",
       "         17., 17.],\n",
       "        [17., 17., 17., 17., 17., 17., 17., 17., 17., 17., 17., 17., 17., 17.,\n",
       "         17., 17.],\n",
       "        [17., 17., 17., 17., 17., 17., 17., 17., 17., 17., 17., 17., 17., 17.,\n",
       "         17., 17.],\n",
       "        [17., 17., 17., 17., 17., 17., 17., 17., 17., 17., 17., 17., 17., 17.,\n",
       "         17., 17.],\n",
       "        [17., 17., 17., 17., 17., 17., 17., 17., 17., 17., 17., 17., 17., 17.,\n",
       "         17., 17.],\n",
       "        [17., 17., 17., 17., 17., 17., 17., 17., 17., 17., 17., 17., 17., 17.,\n",
       "         17., 17.],\n",
       "        [17., 17., 17., 17., 17., 17., 17., 17., 17., 17., 17., 17., 17., 17.,\n",
       "         17., 17.],\n",
       "        [17., 17., 17., 17., 17., 17., 17., 17., 17., 17., 17., 17., 17., 17.,\n",
       "         17., 17.],\n",
       "        [17., 17., 17., 17., 17., 17., 17., 17., 17., 17., 17., 17., 17., 17.,\n",
       "         17., 17.],\n",
       "        [17., 17., 17., 17., 17., 17., 17., 17., 17., 17., 17., 17., 17., 17.,\n",
       "         17., 17.],\n",
       "        [17., 17., 17., 17., 17., 17., 17., 17., 17., 17., 17., 17., 17., 17.,\n",
       "         17., 17.]])"
      ]
     },
     "execution_count": 12,
     "metadata": {},
     "output_type": "execute_result"
    }
   ],
   "source": [
    "\n",
    "import torch\n",
    "\n",
    "A = torch.ones((16,16))\n",
    "B = torch.ones((16,16))\n",
    "C = torch.ones((16,16))\n",
    "A[:] = torch.mm(A,B)\n",
    "C[:] += A\n",
    "C"
   ]
  },
  {
   "cell_type": "code",
   "execution_count": 43,
   "metadata": {},
   "outputs": [
    {
     "name": "stdout",
     "output_type": "stream",
     "text": [
      "torch.Size([201, 1]) torch.Size([21])\n",
      "torch.Size([201, 21])\n"
     ]
    },
    {
     "name": "stderr",
     "output_type": "stream",
     "text": [
      "/var/folders/kk/r4qs20xx1pbcd8xfjh2_6xtr0000gn/T/ipykernel_28286/1601564925.py:5: UserWarning: torch.range is deprecated and will be removed in a future release because its behavior is inconsistent with Python's range builtin. Instead, use torch.arange, which produces values in [start, end).\n",
      "  x = torch.range(-10, 10, 0.1).reshape((-1,1))\n",
      "/var/folders/kk/r4qs20xx1pbcd8xfjh2_6xtr0000gn/T/ipykernel_28286/1601564925.py:8: UserWarning: torch.range is deprecated and will be removed in a future release because its behavior is inconsistent with Python's range builtin. Instead, use torch.arange, which produces values in [start, end).\n",
      "  y = torch.range(0,20, 1)\n"
     ]
    },
    {
     "data": {
      "text/plain": [
       "tensor([[ 1.0000e+00, -1.0000e+01,  1.0000e+02,  ...,  1.0000e+18,\n",
       "         -1.0000e+19,  1.0000e+20],\n",
       "        [ 1.0000e+00, -9.9000e+00,  9.8010e+01,  ...,  8.3451e+17,\n",
       "         -8.2617e+18,  8.1791e+19],\n",
       "        [ 1.0000e+00, -9.8000e+00,  9.6040e+01,  ...,  6.9514e+17,\n",
       "         -6.8123e+18,  6.6761e+19],\n",
       "        ...,\n",
       "        [ 1.0000e+00,  9.8000e+00,  9.6040e+01,  ...,  6.9514e+17,\n",
       "          6.8123e+18,  6.6761e+19],\n",
       "        [ 1.0000e+00,  9.9000e+00,  9.8010e+01,  ...,  8.3451e+17,\n",
       "          8.2617e+18,  8.1791e+19],\n",
       "        [ 1.0000e+00,  1.0000e+01,  1.0000e+02,  ...,  1.0000e+18,\n",
       "          1.0000e+19,  1.0000e+20]])"
      ]
     },
     "execution_count": 43,
     "metadata": {},
     "output_type": "execute_result"
    }
   ],
   "source": [
    "\n",
    "import torch\n",
    "\n",
    "x = torch.range(-10, 10, 0.1).reshape((-1,1))\n",
    "y = torch.range(0,20, 1)\n",
    "A = torch.empty(x.numel(), 21)\n",
    "A = x ** y\n",
    "A\n"
   ]
  }
 ],
 "metadata": {
  "kernelspec": {
   "display_name": "dl",
   "language": "python",
   "name": "python3"
  },
  "language_info": {
   "codemirror_mode": {
    "name": "ipython",
    "version": 3
   },
   "file_extension": ".py",
   "mimetype": "text/x-python",
   "name": "python",
   "nbconvert_exporter": "python",
   "pygments_lexer": "ipython3",
   "version": "3.8.3"
  },
  "orig_nbformat": 4,
  "vscode": {
   "interpreter": {
    "hash": "20c09cea5ede3d49818594c8c0a7d6d3389990e398eb6d0bd0aabf1d5d9d31cd"
   }
  }
 },
 "nbformat": 4,
 "nbformat_minor": 2
}
