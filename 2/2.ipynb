{
 "cells": [
  {
   "cell_type": "code",
   "execution_count": 26,
   "metadata": {},
   "outputs": [
    {
     "name": "stdout",
     "output_type": "stream",
     "text": [
      "x.grad = tensor([-0.7311], dtype=torch.float64)\n",
      "y.grad = tensor([0.7311], dtype=torch.float64)\n",
      "x.grad = tensor([-2.0612e-09], dtype=torch.float64)\n",
      "y.grad = tensor([2.0612e-09], dtype=torch.float64)\n",
      "x.grad = tensor([-3.7201e-44], dtype=torch.float64)\n",
      "y.grad = tensor([3.7201e-44], dtype=torch.float64)\n"
     ]
    }
   ],
   "source": [
    "\n",
    "import torch\n",
    "\n",
    "def log_exp(x,y):\n",
    "    return -torch.log(torch.exp(x) / (torch.exp(x) + torch.exp(y)))\n",
    "\n",
    "x,y = torch.tensor([2], dtype=float), torch.tensor([3],dtype=float)\n",
    "z = log_exp(x,y)\n",
    "\n",
    "\n",
    "def grad(forward_func, x, y):\n",
    "    x.requires_grad_(True)\n",
    "    y.requires_grad_(True)\n",
    "    z = forward_func(x,y)\n",
    "    z.backward()\n",
    "    print('x.grad =', x.grad)\n",
    "    print('y.grad =', y.grad)\n",
    "\n",
    "grad(log_exp, x, y)\n",
    "\n",
    "x.grad = None\n",
    "y.grad = None\n",
    "\n",
    "x,y = torch.tensor([120], dtype=float), torch.tensor([100],dtype=float)\n",
    "\n",
    "grad(log_exp, x, y)\n",
    "\n",
    "def stable_log_exp(x,y):\n",
    "    if x > y:\n",
    "        return - (x - (x + torch.log(1 + torch.exp(y-x))))\n",
    "    else:\n",
    "        return - (x - (y + torch.log(1 + torch.exp(x-y))))\n",
    "\n",
    "x,y = torch.tensor([200], dtype=float), torch.tensor([100],dtype=float)\n",
    "\n",
    "grad(stable_log_exp, x, y)"
   ]
  },
  {
   "cell_type": "code",
   "execution_count": null,
   "metadata": {},
   "outputs": [],
   "source": []
  },
  {
   "cell_type": "code",
   "execution_count": null,
   "metadata": {},
   "outputs": [],
   "source": []
  }
 ],
 "metadata": {
  "kernelspec": {
   "display_name": "dl",
   "language": "python",
   "name": "python3"
  },
  "language_info": {
   "codemirror_mode": {
    "name": "ipython",
    "version": 3
   },
   "file_extension": ".py",
   "mimetype": "text/x-python",
   "name": "python",
   "nbconvert_exporter": "python",
   "pygments_lexer": "ipython3",
   "version": "3.8.3"
  },
  "orig_nbformat": 4,
  "vscode": {
   "interpreter": {
    "hash": "20c09cea5ede3d49818594c8c0a7d6d3389990e398eb6d0bd0aabf1d5d9d31cd"
   }
  }
 },
 "nbformat": 4,
 "nbformat_minor": 2
}
